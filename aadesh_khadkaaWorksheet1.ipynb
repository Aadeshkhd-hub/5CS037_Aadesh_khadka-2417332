{
  "nbformat": 4,
  "nbformat_minor": 0,
  "metadata": {
    "colab": {
      "provenance": []
    },
    "kernelspec": {
      "name": "python3",
      "display_name": "Python 3"
    },
    "language_info": {
      "name": "python"
    }
  },
  "cells": [
    {
      "cell_type": "markdown",
      "source": [
        "Worksheet-1\n",
        "\n",
        "Problem - 1: Array Creation:\n",
        "\n",
        "\n"
      ],
      "metadata": {
        "id": "arkWN35az_Qb"
      }
    },
    {
      "cell_type": "code",
      "source": [
        "import numpy as np\n",
        "\n",
        "#num1\n",
        "empty_array= np.empty((2,2))\n",
        "print( empty_array)\n",
        "print(\"\\n\")\n",
        "\n",
        "#num2\n",
        "all_ones_array= np.ones((4,2))\n",
        "print(all_ones_array)\n",
        "print(\"\\n\")\n",
        "\n",
        "#num3\n",
        "fill_value_array = np.full((3,3),7)\n",
        "print(fill_value_array)\n",
        "print(\"\\n\")\n",
        "\n",
        "#num4\n",
        "my_array = np.array([[1, 2], [3, 4]])\n",
        "zeros_like_array = np.zeros_like(my_array)\n",
        "print(zeros_like_array)\n",
        "print(\"\\n\")\n",
        "\n",
        "#num5\n",
        "my_array = np.array([[1, 2], [3, 4]])\n",
        "ones_like_array = np.ones_like(my_array)\n",
        "print(ones_like_array)\n",
        "print(\"\\n\")\n",
        "\n",
        "#num6\n",
        "my_list = [1, 2, 3, 4]\n",
        "numpy_array = np.array(my_list)\n",
        "print(numpy_array)\n",
        "print(\"\\n\")\n"
      ],
      "metadata": {
        "colab": {
          "base_uri": "https://localhost:8080/"
        },
        "id": "hs4nshZB0YdA",
        "outputId": "d8062f04-e0b3-4237-8065-35961608419b"
      },
      "execution_count": null,
      "outputs": [
        {
          "output_type": "stream",
          "name": "stdout",
          "text": [
            "[[4.9e-324 9.9e-324]\n",
            " [1.5e-323 2.0e-323]]\n",
            "\n",
            "\n",
            "[[1. 1.]\n",
            " [1. 1.]\n",
            " [1. 1.]\n",
            " [1. 1.]]\n",
            "\n",
            "\n",
            "[[7 7 7]\n",
            " [7 7 7]\n",
            " [7 7 7]]\n",
            "\n",
            "\n",
            "[[0 0]\n",
            " [0 0]]\n",
            "\n",
            "\n",
            "[[1 1]\n",
            " [1 1]]\n",
            "\n",
            "\n",
            "[1 2 3 4]\n",
            "\n",
            "\n"
          ]
        }
      ]
    },
    {
      "cell_type": "markdown",
      "source": [
        "Problem - 2: Array Manipulation: Numerical Ranges and Array indexing:\n"
      ],
      "metadata": {
        "id": "1McqTdLS-Hdk"
      }
    },
    {
      "cell_type": "code",
      "source": [
        "import numpy as np\n",
        "arr = np.arange(11,50)\n",
        "print(arr)\n",
        "\n",
        "matrix = np.arange(9).reshape(3,3)\n",
        "print(matrix)\n",
        "\n",
        "identity = np.eye(3)\n",
        "print(identity)\n",
        "print(\"\\n\")\n",
        "\n",
        "random_array = np.random.random(size=30)\n",
        "print(random_array)\n",
        "print(\"The mean of the above array is: \",random_array.mean())\n",
        "print(\"\\n\")\n",
        "\n",
        "random_array = np.random.random((10,10))\n",
        "print(random_array)\n",
        "print(\"Minimum Value is \",random_array.min())\n",
        "print(\"Maximum Value is \",random_array.max())\n",
        "print(\"\\n\")\n",
        "\n",
        "zero_arr = np.zeros(10)\n",
        "print(zero_arr)\n",
        "zero_arr[5]=1\n",
        "print(zero_arr)\n",
        "print(\"\\n\")\n",
        "\n",
        "arr = [1,2,0,0,4,0]\n",
        "rev = np.flip(arr)\n",
        "print(rev)\n",
        "\n",
        "array = np.zeros((5, 5), dtype=int)\n",
        "\n",
        "array[0, :] = 1\n",
        "array[-1, :] = 1\n",
        "array[:, 0] = 1\n",
        "array[:, -1] = 1\n",
        "\n",
        "print(array)\n",
        "print(\"\\n\")\n",
        "\n",
        "checkerboard = np.zeros((8, 8), dtype=int)\n",
        "\n",
        "\n",
        "checkerboard[::2, ::2] = 1\n",
        "checkerboard[1::2, 1::2] = 1\n",
        "\n",
        "print(checkerboard)\n"
      ],
      "metadata": {
        "id": "Pl1dK9tC-MzR",
        "colab": {
          "base_uri": "https://localhost:8080/"
        },
        "outputId": "e49c7f4a-72ee-49b7-82e1-8ee281dab8ee"
      },
      "execution_count": null,
      "outputs": [
        {
          "output_type": "stream",
          "name": "stdout",
          "text": [
            "[11 12 13 14 15 16 17 18 19 20 21 22 23 24 25 26 27 28 29 30 31 32 33 34\n",
            " 35 36 37 38 39 40 41 42 43 44 45 46 47 48 49]\n",
            "[[0 1 2]\n",
            " [3 4 5]\n",
            " [6 7 8]]\n",
            "[[1. 0. 0.]\n",
            " [0. 1. 0.]\n",
            " [0. 0. 1.]]\n",
            "\n",
            "\n",
            "[0.24001431 0.48259165 0.5885965  0.33993604 0.89010244 0.66641117\n",
            " 0.38301421 0.75045785 0.15329402 0.68657717 0.15095473 0.132555\n",
            " 0.13283478 0.06099491 0.53970576 0.88343242 0.98985798 0.72719713\n",
            " 0.02599036 0.21011163 0.70734706 0.07056862 0.320246   0.39277908\n",
            " 0.73909821 0.31390535 0.9158082  0.37595434 0.86156088 0.78783268]\n",
            "The mean of the above array is:  0.4839910161892158\n",
            "\n",
            "\n",
            "[[0.93400849 0.13577206 0.71161817 0.93893358 0.07980872 0.67971368\n",
            "  0.31680391 0.09652942 0.26096474 0.84042024]\n",
            " [0.38319144 0.2084951  0.56829609 0.70750208 0.67834218 0.42291633\n",
            "  0.20420956 0.40202255 0.24052288 0.29691008]\n",
            " [0.48493361 0.96926538 0.86759776 0.56384707 0.7226835  0.82276659\n",
            "  0.82855745 0.10846479 0.97857973 0.49155855]\n",
            " [0.22194928 0.0193737  0.54275998 0.5675949  0.18520974 0.71612494\n",
            "  0.10162979 0.97875916 0.56685653 0.63886036]\n",
            " [0.05386364 0.843263   0.73881921 0.61529149 0.97983075 0.82197362\n",
            "  0.84928837 0.32886243 0.96442516 0.80809949]\n",
            " [0.0428881  0.39265511 0.83992049 0.21007867 0.12799946 0.19052511\n",
            "  0.15937732 0.20537008 0.3481955  0.23041427]\n",
            " [0.17264822 0.07289568 0.31275718 0.52556968 0.50879995 0.95168168\n",
            "  0.11684528 0.44906618 0.08346099 0.53058245]\n",
            " [0.94037597 0.99048306 0.14902941 0.36334502 0.20138798 0.95807133\n",
            "  0.36067277 0.93605116 0.79525766 0.00646605]\n",
            " [0.11316037 0.90533042 0.27132193 0.44790308 0.41526479 0.41444337\n",
            "  0.82937423 0.31127945 0.26574836 0.78090643]\n",
            " [0.49015652 0.57533173 0.58944683 0.83860539 0.75361649 0.60795872\n",
            "  0.1290643  0.20669721 0.03074458 0.89031482]]\n",
            "Minimum Value is  0.006466046955374449\n",
            "Maximum Value is  0.9904830573712187\n",
            "\n",
            "\n",
            "[0. 0. 0. 0. 0. 0. 0. 0. 0. 0.]\n",
            "[0. 0. 0. 0. 0. 1. 0. 0. 0. 0.]\n",
            "\n",
            "\n",
            "[0 4 0 0 2 1]\n",
            "[[1 1 1 1 1]\n",
            " [1 0 0 0 1]\n",
            " [1 0 0 0 1]\n",
            " [1 0 0 0 1]\n",
            " [1 1 1 1 1]]\n",
            "\n",
            "\n",
            "[[1 0 1 0 1 0 1 0]\n",
            " [0 1 0 1 0 1 0 1]\n",
            " [1 0 1 0 1 0 1 0]\n",
            " [0 1 0 1 0 1 0 1]\n",
            " [1 0 1 0 1 0 1 0]\n",
            " [0 1 0 1 0 1 0 1]\n",
            " [1 0 1 0 1 0 1 0]\n",
            " [0 1 0 1 0 1 0 1]]\n"
          ]
        }
      ]
    },
    {
      "cell_type": "code",
      "source": [],
      "metadata": {
        "id": "goNPBPeRBwFX"
      },
      "execution_count": null,
      "outputs": []
    },
    {
      "cell_type": "markdown",
      "source": [
        "Problem - 3: Array Operations:\n"
      ],
      "metadata": {
        "id": "bIGaAKQXn2vH"
      }
    },
    {
      "cell_type": "code",
      "source": [
        "\n",
        "x = np.array([[1, 2], [3, 5]])\n",
        "y = np.array([[5, 6], [7, 8]])\n",
        "v = np.array([9, 10])\n",
        "w = np.array([11, 12])\n",
        "\n",
        "\n",
        "add_xy = x + y\n",
        "print(\"Addition of x and y:\\n\", add_xy)\n",
        "\n",
        "subtract_xy = x - y\n",
        "print(\"Subtraction of x and y:\\n\", subtract_xy)\n",
        "\n",
        "multiply_x = 3 * x\n",
        "print(\"Multiplication of x with 3:\\n\", multiply_x)\n",
        "\n",
        "square_x = np.square(x)\n",
        "print(\"Square of each element in x:\\n\", square_x)\n",
        "\n",
        "dot_vw = np.dot(v, w)\n",
        "print(\"Dot product of v and w:\", dot_vw)\n",
        "\n",
        "dot_xv = np.dot(x, v)\n",
        "print(\"Dot product of x and v:\", dot_xv)\n",
        "\n",
        "dot_xy = np.dot(x, y)\n",
        "print(\"Dot product of x and y:\\n\", dot_xy)\n",
        "\n",
        "\n",
        "concat_xy_rows = np.concatenate((x, y))\n",
        "print(\"Concatenation of x and y along rows:\\n\", concat_xy_rows)\n",
        "\n",
        "concat_vw_columns = np.vstack((v, w))\n",
        "print(\"Concatenation of v and w along columns:\\n\", concat_vw_columns)\n",
        "\n",
        "try:\n",
        "    concat_xv = np.concatenate((x, v))\n",
        "    print(\"Concatenation of x and v:\\n\", concat_xv)\n",
        "except ValueError as e:\n",
        "    print(\"Error while concatenating x and v:\", e)\n"
      ],
      "metadata": {
        "id": "uANCZoX0n-U2",
        "colab": {
          "base_uri": "https://localhost:8080/"
        },
        "outputId": "9e4469a0-ffda-4794-eae5-2fe1d5f816ee"
      },
      "execution_count": 5,
      "outputs": [
        {
          "output_type": "stream",
          "name": "stdout",
          "text": [
            "Addition of x and y:\n",
            " [[ 6  8]\n",
            " [10 13]]\n",
            "Subtraction of x and y:\n",
            " [[-4 -4]\n",
            " [-4 -3]]\n",
            "Multiplication of x with 3:\n",
            " [[ 3  6]\n",
            " [ 9 15]]\n",
            "Square of each element in x:\n",
            " [[ 1  4]\n",
            " [ 9 25]]\n",
            "Dot product of v and w: 219\n",
            "Dot product of x and v: [29 77]\n",
            "Dot product of x and y:\n",
            " [[19 22]\n",
            " [50 58]]\n",
            "Concatenation of x and y along rows:\n",
            " [[1 2]\n",
            " [3 5]\n",
            " [5 6]\n",
            " [7 8]]\n",
            "Concatenation of v and w along columns:\n",
            " [[ 9 10]\n",
            " [11 12]]\n",
            "Error while concatenating x and v: all the input arrays must have same number of dimensions, but the array at index 0 has 2 dimension(s) and the array at index 1 has 1 dimension(s)\n"
          ]
        }
      ]
    },
    {
      "cell_type": "markdown",
      "source": [
        "Problem - 4: Matrix Operations:\n"
      ],
      "metadata": {
        "id": "jRItByNc4ksC"
      }
    },
    {
      "cell_type": "code",
      "source": [
        "\n",
        "import numpy as np\n",
        "A = np.array([[3, 4], [7, 8]])\n",
        "B = np.array([[5, 3], [2, 1]])\n",
        "\n",
        "A_inv = np.linalg.inv(A)\n",
        "identity_matrix = np.dot(A, A_inv)\n",
        "print(np.allclose(identity_matrix, np.eye(2)))\n",
        "\n",
        "AB = np.dot(A, B)\n",
        "BA = np.dot(B, A)\n",
        "AB_equals_BA = np.array_equal(AB, BA)\n",
        "print(AB_equals_BA)\n",
        "\n",
        "AB_transpose = np.transpose(AB)\n",
        "B_transpose_A_transpose = np.dot(np.transpose(B), np.transpose(A))\n",
        "AB_transpose_equals_BT_AT = np.array_equal(AB_transpose, B_transpose_A_transpose)\n",
        "print(AB_transpose_equals_BT_AT)\n",
        "\n",
        "A = np.array([[2, -3, 1], [1, -1, 2], [3, 1, -1]])\n",
        "B = np.array([-1, -3, 9])\n",
        "A_inv = np.linalg.inv(A)\n",
        "X = np.dot(A_inv, B)\n",
        "print(\"The solution is:\\n\", X)"
      ],
      "metadata": {
        "colab": {
          "base_uri": "https://localhost:8080/"
        },
        "id": "zmZdoQmVGvOr",
        "outputId": "48142dba-9212-4f13-a013-7228ee1e7da1"
      },
      "execution_count": 4,
      "outputs": [
        {
          "output_type": "stream",
          "name": "stdout",
          "text": [
            "True\n",
            "False\n",
            "True\n",
            "The solution is:\n",
            " [ 2.  1. -2.]\n"
          ]
        }
      ]
    },
    {
      "cell_type": "code",
      "source": [
        "\n",
        "import numpy as np\n",
        "from time import time\n",
        "list_size = 1_000_000\n",
        "\n",
        "start_time = time()\n",
        "list1 = [i for i in range(list_size)]\n",
        "list2 = [i for i in range(list_size)]\n",
        "list_addition = [list1[i] + list2[i] for i in range(list_size)]\n",
        "list_addition_time = time() - start_time\n",
        "print(f\"Start Time: {start_time}\\nEnd Time: {list_addition_time}\")\n",
        "\n",
        "array1 = np.arange(list_size)\n",
        "array2 = np.arange(list_size)\n",
        "start_time = time()\n",
        "array_addition = array1 + array2\n",
        "array_addition_time = time() - start_time\n",
        "print(f\"Start Time: {start_time}\\nEnd Time: {array_addition}\")\n",
        "\n",
        "start_time = time()\n",
        "list_multiplication = [list1[i] * list2[i] for i in range(list_size)]\n",
        "list_multiplication_time = time() - start_time\n",
        "print(f\"Start Time: {start_time}\\nEnd Time: {list_multiplication_time}\")\n",
        "\n",
        "start_time = time()\n",
        "array_multiplication = array1 * array2\n",
        "array_multiplication_time = time() - start_time\n",
        "print(f\"Start Time: {start_time}\\nEnd Time: {array_multiplication_time}\")\n",
        "\n",
        "start_time = time()\n",
        "list_dot_product = sum(list1[i] * list2[i] for i in range(list_size))\n",
        "list_dot_product_time = time() - start_time\n",
        "print(f\"Start Time: {start_time}\\nEnd Time: {list_dot_product_time}\")\n",
        "\n",
        "start_time = time()\n",
        "array_dot_product = np.dot(array1, array2)\n",
        "array_dot_product_time = time() - start_time\n",
        "print(f\"Start Time: {start_time}\\nEnd Time: {array_dot_product_time}\")\n",
        "\n",
        "matrix_size = 1000\n",
        "matrix1 = [[i for i in range(matrix_size)] for _ in range(matrix_size)]\n",
        "matrix2 = [[i for i in range(matrix_size)] for _ in range(matrix_size)]\n",
        "start_time = time()\n",
        "matrix_multiplication = [\n",
        "    [sum(matrix1[i][k] * matrix2[k][j] for k in range(matrix_size)) for j in range(matrix_size)]\n",
        "    for i in range(matrix_size)\n",
        "]\n",
        "list_matrix_multiplication_time = time() - start_time\n",
        "print(f\"Start Time: {start_time}\\nEnd Time: {list_matrix_multiplication_time}\")\n",
        "\n",
        "array_matrix1 = np.arange(matrix_size**2).reshape(matrix_size, matrix_size)\n",
        "array_matrix2 = np.arange(matrix_size**2).reshape(matrix_size, matrix_size)\n",
        "start_time = time()\n",
        "array_matrix_multiplication = np.dot(array_matrix1, array_matrix2)\n",
        "array_matrix_multiplication_time = time() - start_time\n",
        "print(f\"Start Time: {start_time}\\nEnd Time: {array_matrix_multiplication_time}\")"
      ],
      "metadata": {
        "colab": {
          "base_uri": "https://localhost:8080/",
          "height": 564
        },
        "id": "5C_i6X2RHNoM",
        "outputId": "42258eb5-5c4b-4aee-a947-6919904e5765"
      },
      "execution_count": 10,
      "outputs": [
        {
          "output_type": "stream",
          "name": "stdout",
          "text": [
            "Start Time: 1733155883.1196592\n",
            "End Time: 0.2855265140533447\n",
            "Start Time: 1733155883.4134178\n",
            "End Time: [      0       2       4 ... 1999994 1999996 1999998]\n",
            "Start Time: 1733155883.445715\n",
            "End Time: 0.15020155906677246\n",
            "Start Time: 1733155883.5961244\n",
            "End Time: 0.002465963363647461\n",
            "Start Time: 1733155883.5987942\n",
            "End Time: 0.15901851654052734\n",
            "Start Time: 1733155883.7580488\n",
            "End Time: 0.0019690990447998047\n"
          ]
        },
        {
          "output_type": "error",
          "ename": "KeyboardInterrupt",
          "evalue": "",
          "traceback": [
            "\u001b[0;31m---------------------------------------------------------------------------\u001b[0m",
            "\u001b[0;31mKeyboardInterrupt\u001b[0m                         Traceback (most recent call last)",
            "\u001b[0;32m<ipython-input-10-9432e8cd1a4c>\u001b[0m in \u001b[0;36m<cell line: 43>\u001b[0;34m()\u001b[0m\n\u001b[1;32m     41\u001b[0m \u001b[0mmatrix2\u001b[0m \u001b[0;34m=\u001b[0m \u001b[0;34m[\u001b[0m\u001b[0;34m[\u001b[0m\u001b[0mi\u001b[0m \u001b[0;32mfor\u001b[0m \u001b[0mi\u001b[0m \u001b[0;32min\u001b[0m \u001b[0mrange\u001b[0m\u001b[0;34m(\u001b[0m\u001b[0mmatrix_size\u001b[0m\u001b[0;34m)\u001b[0m\u001b[0;34m]\u001b[0m \u001b[0;32mfor\u001b[0m \u001b[0m_\u001b[0m \u001b[0;32min\u001b[0m \u001b[0mrange\u001b[0m\u001b[0;34m(\u001b[0m\u001b[0mmatrix_size\u001b[0m\u001b[0;34m)\u001b[0m\u001b[0;34m]\u001b[0m\u001b[0;34m\u001b[0m\u001b[0;34m\u001b[0m\u001b[0m\n\u001b[1;32m     42\u001b[0m \u001b[0mstart_time\u001b[0m \u001b[0;34m=\u001b[0m \u001b[0mtime\u001b[0m\u001b[0;34m(\u001b[0m\u001b[0;34m)\u001b[0m\u001b[0;34m\u001b[0m\u001b[0;34m\u001b[0m\u001b[0m\n\u001b[0;32m---> 43\u001b[0;31m matrix_multiplication = [\n\u001b[0m\u001b[1;32m     44\u001b[0m     \u001b[0;34m[\u001b[0m\u001b[0msum\u001b[0m\u001b[0;34m(\u001b[0m\u001b[0mmatrix1\u001b[0m\u001b[0;34m[\u001b[0m\u001b[0mi\u001b[0m\u001b[0;34m]\u001b[0m\u001b[0;34m[\u001b[0m\u001b[0mk\u001b[0m\u001b[0;34m]\u001b[0m \u001b[0;34m*\u001b[0m \u001b[0mmatrix2\u001b[0m\u001b[0;34m[\u001b[0m\u001b[0mk\u001b[0m\u001b[0;34m]\u001b[0m\u001b[0;34m[\u001b[0m\u001b[0mj\u001b[0m\u001b[0;34m]\u001b[0m \u001b[0;32mfor\u001b[0m \u001b[0mk\u001b[0m \u001b[0;32min\u001b[0m \u001b[0mrange\u001b[0m\u001b[0;34m(\u001b[0m\u001b[0mmatrix_size\u001b[0m\u001b[0;34m)\u001b[0m\u001b[0;34m)\u001b[0m \u001b[0;32mfor\u001b[0m \u001b[0mj\u001b[0m \u001b[0;32min\u001b[0m \u001b[0mrange\u001b[0m\u001b[0;34m(\u001b[0m\u001b[0mmatrix_size\u001b[0m\u001b[0;34m)\u001b[0m\u001b[0;34m]\u001b[0m\u001b[0;34m\u001b[0m\u001b[0;34m\u001b[0m\u001b[0m\n\u001b[1;32m     45\u001b[0m     \u001b[0;32mfor\u001b[0m \u001b[0mi\u001b[0m \u001b[0;32min\u001b[0m \u001b[0mrange\u001b[0m\u001b[0;34m(\u001b[0m\u001b[0mmatrix_size\u001b[0m\u001b[0;34m)\u001b[0m\u001b[0;34m\u001b[0m\u001b[0;34m\u001b[0m\u001b[0m\n",
            "\u001b[0;32m<ipython-input-10-9432e8cd1a4c>\u001b[0m in \u001b[0;36m<listcomp>\u001b[0;34m(.0)\u001b[0m\n\u001b[1;32m     42\u001b[0m \u001b[0mstart_time\u001b[0m \u001b[0;34m=\u001b[0m \u001b[0mtime\u001b[0m\u001b[0;34m(\u001b[0m\u001b[0;34m)\u001b[0m\u001b[0;34m\u001b[0m\u001b[0;34m\u001b[0m\u001b[0m\n\u001b[1;32m     43\u001b[0m matrix_multiplication = [\n\u001b[0;32m---> 44\u001b[0;31m     \u001b[0;34m[\u001b[0m\u001b[0msum\u001b[0m\u001b[0;34m(\u001b[0m\u001b[0mmatrix1\u001b[0m\u001b[0;34m[\u001b[0m\u001b[0mi\u001b[0m\u001b[0;34m]\u001b[0m\u001b[0;34m[\u001b[0m\u001b[0mk\u001b[0m\u001b[0;34m]\u001b[0m \u001b[0;34m*\u001b[0m \u001b[0mmatrix2\u001b[0m\u001b[0;34m[\u001b[0m\u001b[0mk\u001b[0m\u001b[0;34m]\u001b[0m\u001b[0;34m[\u001b[0m\u001b[0mj\u001b[0m\u001b[0;34m]\u001b[0m \u001b[0;32mfor\u001b[0m \u001b[0mk\u001b[0m \u001b[0;32min\u001b[0m \u001b[0mrange\u001b[0m\u001b[0;34m(\u001b[0m\u001b[0mmatrix_size\u001b[0m\u001b[0;34m)\u001b[0m\u001b[0;34m)\u001b[0m \u001b[0;32mfor\u001b[0m \u001b[0mj\u001b[0m \u001b[0;32min\u001b[0m \u001b[0mrange\u001b[0m\u001b[0;34m(\u001b[0m\u001b[0mmatrix_size\u001b[0m\u001b[0;34m)\u001b[0m\u001b[0;34m]\u001b[0m\u001b[0;34m\u001b[0m\u001b[0;34m\u001b[0m\u001b[0m\n\u001b[0m\u001b[1;32m     45\u001b[0m     \u001b[0;32mfor\u001b[0m \u001b[0mi\u001b[0m \u001b[0;32min\u001b[0m \u001b[0mrange\u001b[0m\u001b[0;34m(\u001b[0m\u001b[0mmatrix_size\u001b[0m\u001b[0;34m)\u001b[0m\u001b[0;34m\u001b[0m\u001b[0;34m\u001b[0m\u001b[0m\n\u001b[1;32m     46\u001b[0m ]\n",
            "\u001b[0;32m<ipython-input-10-9432e8cd1a4c>\u001b[0m in \u001b[0;36m<listcomp>\u001b[0;34m(.0)\u001b[0m\n\u001b[1;32m     42\u001b[0m \u001b[0mstart_time\u001b[0m \u001b[0;34m=\u001b[0m \u001b[0mtime\u001b[0m\u001b[0;34m(\u001b[0m\u001b[0;34m)\u001b[0m\u001b[0;34m\u001b[0m\u001b[0;34m\u001b[0m\u001b[0m\n\u001b[1;32m     43\u001b[0m matrix_multiplication = [\n\u001b[0;32m---> 44\u001b[0;31m     \u001b[0;34m[\u001b[0m\u001b[0msum\u001b[0m\u001b[0;34m(\u001b[0m\u001b[0mmatrix1\u001b[0m\u001b[0;34m[\u001b[0m\u001b[0mi\u001b[0m\u001b[0;34m]\u001b[0m\u001b[0;34m[\u001b[0m\u001b[0mk\u001b[0m\u001b[0;34m]\u001b[0m \u001b[0;34m*\u001b[0m \u001b[0mmatrix2\u001b[0m\u001b[0;34m[\u001b[0m\u001b[0mk\u001b[0m\u001b[0;34m]\u001b[0m\u001b[0;34m[\u001b[0m\u001b[0mj\u001b[0m\u001b[0;34m]\u001b[0m \u001b[0;32mfor\u001b[0m \u001b[0mk\u001b[0m \u001b[0;32min\u001b[0m \u001b[0mrange\u001b[0m\u001b[0;34m(\u001b[0m\u001b[0mmatrix_size\u001b[0m\u001b[0;34m)\u001b[0m\u001b[0;34m)\u001b[0m \u001b[0;32mfor\u001b[0m \u001b[0mj\u001b[0m \u001b[0;32min\u001b[0m \u001b[0mrange\u001b[0m\u001b[0;34m(\u001b[0m\u001b[0mmatrix_size\u001b[0m\u001b[0;34m)\u001b[0m\u001b[0;34m]\u001b[0m\u001b[0;34m\u001b[0m\u001b[0;34m\u001b[0m\u001b[0m\n\u001b[0m\u001b[1;32m     45\u001b[0m     \u001b[0;32mfor\u001b[0m \u001b[0mi\u001b[0m \u001b[0;32min\u001b[0m \u001b[0mrange\u001b[0m\u001b[0;34m(\u001b[0m\u001b[0mmatrix_size\u001b[0m\u001b[0;34m)\u001b[0m\u001b[0;34m\u001b[0m\u001b[0;34m\u001b[0m\u001b[0m\n\u001b[1;32m     46\u001b[0m ]\n",
            "\u001b[0;32m<ipython-input-10-9432e8cd1a4c>\u001b[0m in \u001b[0;36m<genexpr>\u001b[0;34m(.0)\u001b[0m\n\u001b[1;32m     42\u001b[0m \u001b[0mstart_time\u001b[0m \u001b[0;34m=\u001b[0m \u001b[0mtime\u001b[0m\u001b[0;34m(\u001b[0m\u001b[0;34m)\u001b[0m\u001b[0;34m\u001b[0m\u001b[0;34m\u001b[0m\u001b[0m\n\u001b[1;32m     43\u001b[0m matrix_multiplication = [\n\u001b[0;32m---> 44\u001b[0;31m     \u001b[0;34m[\u001b[0m\u001b[0msum\u001b[0m\u001b[0;34m(\u001b[0m\u001b[0mmatrix1\u001b[0m\u001b[0;34m[\u001b[0m\u001b[0mi\u001b[0m\u001b[0;34m]\u001b[0m\u001b[0;34m[\u001b[0m\u001b[0mk\u001b[0m\u001b[0;34m]\u001b[0m \u001b[0;34m*\u001b[0m \u001b[0mmatrix2\u001b[0m\u001b[0;34m[\u001b[0m\u001b[0mk\u001b[0m\u001b[0;34m]\u001b[0m\u001b[0;34m[\u001b[0m\u001b[0mj\u001b[0m\u001b[0;34m]\u001b[0m \u001b[0;32mfor\u001b[0m \u001b[0mk\u001b[0m \u001b[0;32min\u001b[0m \u001b[0mrange\u001b[0m\u001b[0;34m(\u001b[0m\u001b[0mmatrix_size\u001b[0m\u001b[0;34m)\u001b[0m\u001b[0;34m)\u001b[0m \u001b[0;32mfor\u001b[0m \u001b[0mj\u001b[0m \u001b[0;32min\u001b[0m \u001b[0mrange\u001b[0m\u001b[0;34m(\u001b[0m\u001b[0mmatrix_size\u001b[0m\u001b[0;34m)\u001b[0m\u001b[0;34m]\u001b[0m\u001b[0;34m\u001b[0m\u001b[0;34m\u001b[0m\u001b[0m\n\u001b[0m\u001b[1;32m     45\u001b[0m     \u001b[0;32mfor\u001b[0m \u001b[0mi\u001b[0m \u001b[0;32min\u001b[0m \u001b[0mrange\u001b[0m\u001b[0;34m(\u001b[0m\u001b[0mmatrix_size\u001b[0m\u001b[0;34m)\u001b[0m\u001b[0;34m\u001b[0m\u001b[0;34m\u001b[0m\u001b[0m\n\u001b[1;32m     46\u001b[0m ]\n",
            "\u001b[0;31mKeyboardInterrupt\u001b[0m: "
          ]
        }
      ]
    }
  ]
}